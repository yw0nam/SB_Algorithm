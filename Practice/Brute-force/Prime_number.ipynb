{
 "cells": [
  {
   "cell_type": "code",
   "execution_count": 87,
   "metadata": {},
   "outputs": [],
   "source": [
    "num_1 = '17'\n",
    "num_2 = '011'"
   ]
  },
  {
   "cell_type": "code",
   "execution_count": 88,
   "metadata": {},
   "outputs": [],
   "source": [
    "from itertools import permutations"
   ]
  },
  {
   "cell_type": "code",
   "execution_count": 89,
   "metadata": {},
   "outputs": [],
   "source": [
    "ls = []\n",
    "for i in range(1,len(num_2) + 1):\n",
    "    temp_file= list(set(list(map(''.join, permutations(list(num_2), i)))))\n",
    "    for j in range(len(temp_file)):\n",
    "        if temp_file[j][0] == '0':\n",
    "            temp_file[j] = temp_file[j][1:]\n",
    "            try:\n",
    "                temp_file[j][0]\n",
    "            except IndexError:\n",
    "                del(temp_file[j])\n",
    "    for k in temp_file:\n",
    "        ls.append(k)"
   ]
  },
  {
   "cell_type": "code",
   "execution_count": 90,
   "metadata": {},
   "outputs": [
    {
     "data": {
      "text/plain": [
       "['10', '11', '101', '1', '110']"
      ]
     },
     "execution_count": 90,
     "metadata": {},
     "output_type": "execute_result"
    }
   ],
   "source": [
    "temp_ls = list(set(ls))\n",
    "temp_ls"
   ]
  },
  {
   "cell_type": "code",
   "execution_count": 91,
   "metadata": {},
   "outputs": [],
   "source": [
    "n = int(max(temp_ls))\n",
    "sieve = [True] * n\n",
    "\n",
    "m = int(n ** 0.5)\n",
    "for i in range(2, m + 1):\n",
    "    if sieve[i] == True:\n",
    "        for j in range(i+i, n, i):\n",
    "            sieve[j] = False\n",
    "            \n",
    "era_ls = [i for i in range(2, n) if sieve[i] == True]"
   ]
  },
  {
   "cell_type": "code",
   "execution_count": 92,
   "metadata": {},
   "outputs": [],
   "source": [
    "ans = []\n",
    "for i in temp_ls:\n",
    "    if int(i) in era_ls:\n",
    "        ans.append(i)"
   ]
  },
  {
   "cell_type": "code",
   "execution_count": 93,
   "metadata": {},
   "outputs": [
    {
     "data": {
      "text/plain": [
       "['11', '101']"
      ]
     },
     "execution_count": 93,
     "metadata": {},
     "output_type": "execute_result"
    }
   ],
   "source": [
    "ans"
   ]
  },
  {
   "cell_type": "code",
   "execution_count": 116,
   "metadata": {},
   "outputs": [],
   "source": [
    "from itertools import permutations\n",
    "def solution(num):\n",
    "    ls = set()\n",
    "    for i in range(1,len(num) + 1):\n",
    "        temp_file= list(set(list(map(''.join, permutations(list(num), i)))))\n",
    "        for j in range(len(temp_file)):\n",
    "            if temp_file[j][0] == '0':\n",
    "                temp_file[j] = temp_file[j][1:]\n",
    "                try:\n",
    "                    temp_file[j][0]\n",
    "                except IndexError:\n",
    "                    del(temp_file[j])\n",
    "        for k in temp_file:\n",
    "            ls.add(k)\n",
    "    n = int(max(ls)) + 1\n",
    "    sieve = [True] * n\n",
    "\n",
    "    m = int(n ** 0.5)\n",
    "    for i in range(2, m + 1):\n",
    "        if sieve[i] == True:\n",
    "            for j in range(i+i, n, i):\n",
    "                sieve[j] = False\n",
    "\n",
    "    era_ls = [i for i in range(2, n) if sieve[i] == True]\n",
    "    ans = []\n",
    "    for i in temp_ls:\n",
    "        if int(i) in era_ls:\n",
    "            ans.append(i)\n",
    "    return ans"
   ]
  },
  {
   "cell_type": "code",
   "execution_count": 119,
   "metadata": {
    "scrolled": true
   },
   "outputs": [
    {
     "data": {
      "text/plain": [
       "[]"
      ]
     },
     "execution_count": 119,
     "metadata": {},
     "output_type": "execute_result"
    }
   ],
   "source": [
    "a"
   ]
  },
  {
   "cell_type": "code",
   "execution_count": 132,
   "metadata": {},
   "outputs": [],
   "source": [
    "ans = set()\n",
    "temp = set()\n",
    "for i in range(1, len(num_2)+1):\n",
    "    perm = permutations(list(num_2), i)\n",
    "    for i in list(perm):\n",
    "        num = int(\"\".join(list(i)))\n",
    "        temp.add(num)\n",
    "if 1 in temp:\n",
    "    temp.remove(1)\n",
    "\n",
    "n = max(temp)\n",
    "sieve = [True] * n\n",
    "\n",
    "m = int(n ** 0.5)\n",
    "for i in range(2, m + 1):\n",
    "    if sieve[i] == True:\n",
    "        for j in range(i+i, n, i):\n",
    "            sieve[j] = False\n",
    "era_ls = [i for i in range(2, n) if sieve[i] == True]\n",
    "\n",
    "for i in temp:\n",
    "    if i in era_ls:\n",
    "        ans.add(i)"
   ]
  },
  {
   "cell_type": "code",
   "execution_count": 134,
   "metadata": {},
   "outputs": [
    {
     "data": {
      "text/plain": [
       "110"
      ]
     },
     "execution_count": 134,
     "metadata": {},
     "output_type": "execute_result"
    }
   ],
   "source": [
    "n"
   ]
  },
  {
   "cell_type": "code",
   "execution_count": 129,
   "metadata": {},
   "outputs": [
    {
     "data": {
      "text/plain": [
       "{0, 10, 11, 101, 110}"
      ]
     },
     "execution_count": 129,
     "metadata": {},
     "output_type": "execute_result"
    }
   ],
   "source": [
    "a"
   ]
  },
  {
   "cell_type": "code",
   "execution_count": 135,
   "metadata": {},
   "outputs": [],
   "source": [
    "from itertools import permutations\n",
    "def solution(number):\n",
    "    ans = set()\n",
    "    temp = set()\n",
    "    for i in range(1, len(number)+1):\n",
    "        perm = permutations(list(number), i)\n",
    "        for i in list(perm):\n",
    "            num = int(\"\".join(list(i)))\n",
    "            temp.add(num)\n",
    "    if 1 in temp:\n",
    "        temp.remove(1)\n",
    "\n",
    "    n = max(temp)\n",
    "    sieve = [True] * n\n",
    "\n",
    "    m = int(n ** 0.5)\n",
    "    for i in range(2, m + 1):\n",
    "        if sieve[i] == True:\n",
    "            for j in range(i+i, n, i):\n",
    "                sieve[j] = False\n",
    "    era_ls = [i for i in range(2, n) if sieve[i] == True]\n",
    "\n",
    "    for i in temp:\n",
    "        if i in era_ls:\n",
    "            ans.add(i)\n",
    "    return len(ans)"
   ]
  },
  {
   "cell_type": "code",
   "execution_count": 137,
   "metadata": {},
   "outputs": [],
   "source": [
    "a = solution(num_1)"
   ]
  },
  {
   "cell_type": "code",
   "execution_count": 138,
   "metadata": {},
   "outputs": [
    {
     "data": {
      "text/plain": [
       "2"
      ]
     },
     "execution_count": 138,
     "metadata": {},
     "output_type": "execute_result"
    }
   ],
   "source": [
    "a"
   ]
  },
  {
   "cell_type": "code",
   "execution_count": null,
   "metadata": {},
   "outputs": [],
   "source": []
  }
 ],
 "metadata": {
  "kernelspec": {
   "display_name": "Python 3",
   "language": "python",
   "name": "python3"
  },
  "language_info": {
   "codemirror_mode": {
    "name": "ipython",
    "version": 3
   },
   "file_extension": ".py",
   "mimetype": "text/x-python",
   "name": "python",
   "nbconvert_exporter": "python",
   "pygments_lexer": "ipython3",
   "version": "3.6.4"
  }
 },
 "nbformat": 4,
 "nbformat_minor": 2
}
