{
 "cells": [
  {
   "cell_type": "code",
   "execution_count": 1,
   "metadata": {},
   "outputs": [],
   "source": [
    "def solution(answer_page):\n",
    "    stu_1 = [1, 2, 3, 4, 5]\n",
    "    stu_2 = [2, 1, 2, 3, 2, 4, 2, 5]\n",
    "    stu_3 = [3, 3, 1, 1, 2, 2, 4, 4, 5, 5]\n",
    "    stu_list = [stu_1, stu_2, stu_3]\n",
    "    idx_list = [0, 0 ,0]\n",
    "    stu_correct_cnt = [0, 0, 0]\n",
    "    for i in answer_page:\n",
    "        for j in range(3):\n",
    "            try:\n",
    "                if(i == stu_list[j][idx_list[j]]):\n",
    "                    stu_correct_cnt[j] += 1\n",
    "                idx_list[j] += 1\n",
    "            except IndexError:\n",
    "                idx_list[j] = 0\n",
    "                if (i == stu_list[j][idx_list[j]]):\n",
    "                    stu_correct_cnt[j] += 1\n",
    "                idx_list[j] += 1\n",
    "    max_val = max(stu_correct_cnt)\n",
    "    answer = []\n",
    "    for k in range(3):\n",
    "        if stu_correct_cnt[k] == max_val:\n",
    "            answer.append(k + 1)\n",
    "    return answer"
   ]
  },
  {
   "cell_type": "code",
   "execution_count": 2,
   "metadata": {},
   "outputs": [],
   "source": [
    "test = [1, 3, 2, 4, 2]"
   ]
  },
  {
   "cell_type": "code",
   "execution_count": 3,
   "metadata": {},
   "outputs": [],
   "source": [
    "a = solution(test)"
   ]
  },
  {
   "cell_type": "code",
   "execution_count": 4,
   "metadata": {},
   "outputs": [
    {
     "data": {
      "text/plain": [
       "[1, 2, 3]"
      ]
     },
     "execution_count": 4,
     "metadata": {},
     "output_type": "execute_result"
    }
   ],
   "source": [
    "a"
   ]
  },
  {
   "cell_type": "code",
   "execution_count": null,
   "metadata": {},
   "outputs": [],
   "source": []
  }
 ],
 "metadata": {
  "kernelspec": {
   "display_name": "Python 3",
   "language": "python",
   "name": "python3"
  },
  "language_info": {
   "codemirror_mode": {
    "name": "ipython",
    "version": 3
   },
   "file_extension": ".py",
   "mimetype": "text/x-python",
   "name": "python",
   "nbconvert_exporter": "python",
   "pygments_lexer": "ipython3",
   "version": "3.6.4"
  }
 },
 "nbformat": 4,
 "nbformat_minor": 2
}
