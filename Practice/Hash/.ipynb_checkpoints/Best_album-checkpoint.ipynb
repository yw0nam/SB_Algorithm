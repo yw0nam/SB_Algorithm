{
 "cells": [
  {
   "cell_type": "code",
   "execution_count": 200,
   "metadata": {},
   "outputs": [],
   "source": [
    "def solution(genres, plays):\n",
    "    ans = []\n",
    "    genres_dict = dict()\n",
    "    max_val_ls = []\n",
    "    for idx, name in enumerate(genres):\n",
    "        try:\n",
    "            genres_dict[name].append([idx, plays[idx]])\n",
    "        except KeyError:\n",
    "            genres_dict[name] = [[idx, plays[idx]]]\n",
    "    \n",
    "    for keys in genres_dict.keys():\n",
    "        res = 0\n",
    "        value = genres_dict[keys]\n",
    "        value.sort(key= lambda value: value[1], reverse=True)\n",
    "        for i in value:\n",
    "            res += i[1]\n",
    "        max_val_ls.append([keys,res]) # Store max value\n",
    "    max_val_ls.sort(key= lambda max_val_ls: max_val_ls[1], reverse=True)\n",
    "    \n",
    "    for i in range(len(genres_dict)):\n",
    "        try:                         #For plays's length is 1\n",
    "            keys = max_val_ls[i][0]\n",
    "            for j in range(2):\n",
    "                ans.append(genres_dict[keys][j][0])\n",
    "        except IndexError:\n",
    "            continue\n",
    "    return ans"
   ]
  },
  {
   "cell_type": "code",
   "execution_count": 201,
   "metadata": {},
   "outputs": [],
   "source": [
    "genres = [\"classic\", \"pop\", \"classic\", \"classic\", \"pop\"]\n",
    "plays = [500, 600, 150, 800, 2500]"
   ]
  },
  {
   "cell_type": "code",
   "execution_count": 204,
   "metadata": {},
   "outputs": [
    {
     "data": {
      "text/plain": [
       "[4, 1, 3, 0]"
      ]
     },
     "execution_count": 204,
     "metadata": {},
     "output_type": "execute_result"
    }
   ],
   "source": [
    "sol = solution(genres, plays)\n",
    "sol"
   ]
  },
  {
   "cell_type": "code",
   "execution_count": 206,
   "metadata": {},
   "outputs": [],
   "source": [
    "genres = [\"pop\", \"classic\"]\n",
    "plays = [500, 700]"
   ]
  },
  {
   "cell_type": "code",
   "execution_count": 207,
   "metadata": {},
   "outputs": [
    {
     "data": {
      "text/plain": [
       "[1, 0]"
      ]
     },
     "execution_count": 207,
     "metadata": {},
     "output_type": "execute_result"
    }
   ],
   "source": [
    "sol = solution(genres, plays)\n",
    "sol"
   ]
  },
  {
   "cell_type": "code",
   "execution_count": 208,
   "metadata": {},
   "outputs": [],
   "source": [
    "genres_dict = dict()\n",
    "for idx, name in enumerate(genres):\n",
    "    try:\n",
    "        genres_dict[name].append([idx, plays[idx]])\n",
    "    except KeyError:\n",
    "        genres_dict[name] = [[idx, plays[idx]]]"
   ]
  },
  {
   "cell_type": "code",
   "execution_count": 209,
   "metadata": {},
   "outputs": [
    {
     "data": {
      "text/plain": [
       "{'classic': [[1, 700]], 'pop': [[0, 500]]}"
      ]
     },
     "execution_count": 209,
     "metadata": {},
     "output_type": "execute_result"
    }
   ],
   "source": [
    "genres_dict"
   ]
  },
  {
   "cell_type": "code",
   "execution_count": 210,
   "metadata": {},
   "outputs": [],
   "source": [
    "max_val_ls = []\n",
    "for keys in genres_dict.keys():\n",
    "    res = 0\n",
    "    value = genres_dict[keys]\n",
    "    value.sort(key= lambda value: value[1], reverse=True)\n",
    "    for i in value:\n",
    "        res += i[1]\n",
    "    max_val_ls.append([keys,res]) # Store max value\n",
    "max_val_ls.sort(key= lambda max_val_ls: max_val_ls[1], reverse=True)"
   ]
  },
  {
   "cell_type": "code",
   "execution_count": 211,
   "metadata": {},
   "outputs": [
    {
     "data": {
      "text/plain": [
       "{'classic': [[1, 700]], 'pop': [[0, 500]]}"
      ]
     },
     "execution_count": 211,
     "metadata": {},
     "output_type": "execute_result"
    }
   ],
   "source": [
    "genres_dict"
   ]
  },
  {
   "cell_type": "code",
   "execution_count": 212,
   "metadata": {},
   "outputs": [
    {
     "data": {
      "text/plain": [
       "'classic'"
      ]
     },
     "execution_count": 212,
     "metadata": {},
     "output_type": "execute_result"
    }
   ],
   "source": [
    "max_val_ls[0][0]"
   ]
  },
  {
   "cell_type": "code",
   "execution_count": 214,
   "metadata": {},
   "outputs": [],
   "source": [
    "ans = []\n",
    "for i in range(len(genres_dict)):\n",
    "    try:\n",
    "        keys = max_val_ls[i][0]\n",
    "        for j in range(2):\n",
    "            ans.append(genres_dict[keys][j][0])\n",
    "    except IndexError:\n",
    "        continue"
   ]
  },
  {
   "cell_type": "code",
   "execution_count": 215,
   "metadata": {},
   "outputs": [
    {
     "data": {
      "text/plain": [
       "[1, 0]"
      ]
     },
     "execution_count": 215,
     "metadata": {},
     "output_type": "execute_result"
    }
   ],
   "source": [
    "ans"
   ]
  },
  {
   "cell_type": "code",
   "execution_count": null,
   "metadata": {},
   "outputs": [],
   "source": []
  }
 ],
 "metadata": {
  "kernelspec": {
   "display_name": "Python 3",
   "language": "python",
   "name": "python3"
  },
  "language_info": {
   "codemirror_mode": {
    "name": "ipython",
    "version": 3
   },
   "file_extension": ".py",
   "mimetype": "text/x-python",
   "name": "python",
   "nbconvert_exporter": "python",
   "pygments_lexer": "ipython3",
   "version": "3.6.4"
  }
 },
 "nbformat": 4,
 "nbformat_minor": 2
}
