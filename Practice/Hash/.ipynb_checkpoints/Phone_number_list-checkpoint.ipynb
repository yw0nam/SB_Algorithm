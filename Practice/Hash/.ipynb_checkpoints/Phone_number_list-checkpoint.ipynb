{
 "cells": [
  {
   "cell_type": "code",
   "execution_count": 39,
   "metadata": {},
   "outputs": [],
   "source": [
    "def solution(phone_book):\n",
    "    phone_book.sort()\n",
    "    for i in range(len(phone_book)):\n",
    "        length_phone = len(phone_book[i])\n",
    "#         print(\"length:{0}\".format(length_phone))\n",
    "        for j in range(i+1, len(phone_book[i:])):\n",
    "            if phone_book[j][:length_phone] == phone_book[i]:\n",
    "#                 print(\"phone_book[{0}][:{1}]\".format(j, length_phone))\n",
    "#                 print(\"phone_book[{0}]\".format(i))\n",
    "                return False\n",
    "    return True"
   ]
  },
  {
   "cell_type": "code",
   "execution_count": null,
   "metadata": {},
   "outputs": [],
   "source": [
    "|"
   ]
  }
 ],
 "metadata": {
  "kernelspec": {
   "display_name": "Python 3",
   "language": "python",
   "name": "python3"
  },
  "language_info": {
   "codemirror_mode": {
    "name": "ipython",
    "version": 3
   },
   "file_extension": ".py",
   "mimetype": "text/x-python",
   "name": "python",
   "nbconvert_exporter": "python",
   "pygments_lexer": "ipython3",
   "version": "3.6.4"
  }
 },
 "nbformat": 4,
 "nbformat_minor": 2
}
