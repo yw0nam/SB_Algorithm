{
 "cells": [
  {
   "cell_type": "code",
   "execution_count": 106,
   "metadata": {},
   "outputs": [],
   "source": [
    "def solution(clothes):\n",
    "    ans = 1\n",
    "    cloth_num_list = []\n",
    "    cloth_dict = dict()\n",
    "    \n",
    "    for arr in clothes:\n",
    "        try:\n",
    "            cloth_dict[arr[1]].append(arr[0])\n",
    "        except KeyError:\n",
    "            cloth_dict[arr[1]] = [arr[0]]\n",
    "            \n",
    "    for i in cloth_dict:\n",
    "        num = len(cloth_dict[i])\n",
    "        ans *= num + 1\n",
    "    \n",
    "    return ans - 1"
   ]
  },
  {
   "cell_type": "code",
   "execution_count": null,
   "metadata": {},
   "outputs": [],
   "source": []
  }
 ],
 "metadata": {
  "kernelspec": {
   "display_name": "Python 3",
   "language": "python",
   "name": "python3"
  },
  "language_info": {
   "codemirror_mode": {
    "name": "ipython",
    "version": 3
   },
   "file_extension": ".py",
   "mimetype": "text/x-python",
   "name": "python",
   "nbconvert_exporter": "python",
   "pygments_lexer": "ipython3",
   "version": "3.6.4"
  }
 },
 "nbformat": 4,
 "nbformat_minor": 2
}
