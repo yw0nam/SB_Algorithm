{
 "cells": [
  {
   "cell_type": "code",
   "execution_count": null,
   "metadata": {},
   "outputs": [],
   "source": [
    "def solution(people, limit):\n",
    "    people.sort()\n",
    "    idx = 0\n",
    "    idx_rev = len(people) - 1\n",
    "    cnt = 0\n",
    "    while(idx < idx_rev):\n",
    "        if people[idx] + people[idx_rev] <= limit:\n",
    "            cnt += 1\n",
    "            idx += 1\n",
    "            idx_rev -= 1\n",
    "        else:\n",
    "            idx_rev -= 1\n",
    "    return len(people) - cnt"
   ]
  }
 ],
 "metadata": {
  "kernelspec": {
   "display_name": "Python 3",
   "language": "python",
   "name": "python3"
  },
  "language_info": {
   "codemirror_mode": {
    "name": "ipython",
    "version": 3
   },
   "file_extension": ".py",
   "mimetype": "text/x-python",
   "name": "python",
   "nbconvert_exporter": "python",
   "pygments_lexer": "ipython3",
   "version": "3.6.4"
  }
 },
 "nbformat": 4,
 "nbformat_minor": 2
}
