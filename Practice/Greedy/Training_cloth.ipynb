{
 "cells": [
  {
   "cell_type": "code",
   "execution_count": 4,
   "metadata": {},
   "outputs": [],
   "source": [
    "def solution(n, lost, reserve):\n",
    "    import numpy as np\n",
    "    answer = 0\n",
    "    stu_list = np.ones(n, dtype= int)\n",
    "    for i in reserve:\n",
    "        stu_list[i - 1] = 2\n",
    "    for i in lost:\n",
    "        stu_list[i - 1] -= 1\n",
    "    for idx, num in enumerate(stu_list):\n",
    "        try:\n",
    "            if num == 0:\n",
    "                if stu_list[idx + 1] == 2:\n",
    "                    stu_list[idx] = 1\n",
    "                    stu_list[idx + 1] = 1\n",
    "                elif stu_list[idx - 1] == 2:\n",
    "                    stu_list[idx] = 1\n",
    "                    stu_list[idx -1] = 1\n",
    "        except IndexError:\n",
    "            continue\n",
    "    return n - stu_list.count(0)"
   ]
  },
  {
   "cell_type": "code",
   "execution_count": null,
   "metadata": {},
   "outputs": [],
   "source": []
  }
 ],
 "metadata": {
  "kernelspec": {
   "display_name": "Python 3",
   "language": "python",
   "name": "python3"
  },
  "language_info": {
   "codemirror_mode": {
    "name": "ipython",
    "version": 3
   },
   "file_extension": ".py",
   "mimetype": "text/x-python",
   "name": "python",
   "nbconvert_exporter": "python",
   "pygments_lexer": "ipython3",
   "version": "3.6.4"
  }
 },
 "nbformat": 4,
 "nbformat_minor": 2
}
