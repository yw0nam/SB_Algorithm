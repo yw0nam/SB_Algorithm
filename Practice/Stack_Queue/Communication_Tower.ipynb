{
 "cells": [
  {
   "cell_type": "code",
   "execution_count": null,
   "metadata": {},
   "outputs": [],
   "source": [
    "def solution(heights):\n",
    "    answer = []\n",
    "    orignal_stack_length = len(heights)\n",
    "    offset = 1\n",
    "    while (1):\n",
    "        st_ptr = orignal_stack_length - offset\n",
    "        offset += 1\n",
    "        try:\n",
    "            val = heights.pop(-1)\n",
    "            st_ptr -= 1\n",
    "        except IndexError:\n",
    "            break\n",
    "        while (1):\n",
    "            try:\n",
    "                if (val < heights[st_ptr]):\n",
    "                    answer.insert(0, st_ptr + 1)\n",
    "                    break\n",
    "                else:\n",
    "                    st_ptr -= 1\n",
    "            except IndexError:\n",
    "                answer.insert(0, 0)\n",
    "                break\n",
    "\n",
    "    return answer"
   ]
  }
 ],
 "metadata": {
  "kernelspec": {
   "display_name": "Python 3",
   "language": "python",
   "name": "python3"
  },
  "language_info": {
   "codemirror_mode": {
    "name": "ipython",
    "version": 3
   },
   "file_extension": ".py",
   "mimetype": "text/x-python",
   "name": "python",
   "nbconvert_exporter": "python",
   "pygments_lexer": "ipython3",
   "version": "3.6.4"
  }
 },
 "nbformat": 4,
 "nbformat_minor": 2
}
