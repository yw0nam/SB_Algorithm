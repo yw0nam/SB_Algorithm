{
 "cells": [
  {
   "cell_type": "code",
   "execution_count": 48,
   "metadata": {},
   "outputs": [],
   "source": [
    "def solution(prog, spd):\n",
    "    answer = []\n",
    "    day = 0\n",
    "    while(prog != []):\n",
    "        res = 0\n",
    "        day += 1\n",
    "        for idx in range(len(prog)):\n",
    "            prog[idx] += spd[idx]\n",
    "        print(\"{0} : {1}\".format(day, prog))\n",
    "        for idx in range(len(prog)):\n",
    "            if prog[0] > 99:\n",
    "                res += 1\n",
    "                del(prog[0])\n",
    "                del(spd[0])\n",
    "            else:\n",
    "                break\n",
    "        if res != 0:\n",
    "            answer.append(res)\n",
    "    return answer"
   ]
  }
 ],
 "metadata": {
  "kernelspec": {
   "display_name": "Python 3",
   "language": "python",
   "name": "python3"
  },
  "language_info": {
   "codemirror_mode": {
    "name": "ipython",
    "version": 3
   },
   "file_extension": ".py",
   "mimetype": "text/x-python",
   "name": "python",
   "nbconvert_exporter": "python",
   "pygments_lexer": "ipython3",
   "version": "3.6.4"
  }
 },
 "nbformat": 4,
 "nbformat_minor": 2
}
