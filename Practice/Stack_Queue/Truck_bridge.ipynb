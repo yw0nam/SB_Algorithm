{
 "cells": [
  {
   "cell_type": "code",
   "execution_count": 68,
   "metadata": {},
   "outputs": [],
   "source": [
    "def solution(bridge_length, weight, truck_weights):\n",
    "    t = 0\n",
    "    on_bri_truck_time = []\n",
    "    on_bri_wei = []\n",
    "    while (True):\n",
    "        try:\n",
    "            if (t - on_bri_truck_time[0]) == bridge_length:\n",
    "                del (on_bri_truck_time[0])\n",
    "                del (on_bri_wei[0])\n",
    "        except IndexError:\n",
    "            pass\n",
    "\n",
    "        try:\n",
    "            if (weight - sum(on_bri_wei)) >= truck_weights[0]:\n",
    "                on_bri_truck_time.append(t)\n",
    "                on_bri_wei.append(truck_weights.pop(0))\n",
    "\n",
    "        except IndexError:\n",
    "            pass\n",
    "        t += 1\n",
    "        if (on_bri_truck_time ==[]):\n",
    "            return t"
   ]
  }
 ],
 "metadata": {
  "kernelspec": {
   "display_name": "Python 3",
   "language": "python",
   "name": "python3"
  },
  "language_info": {
   "codemirror_mode": {
    "name": "ipython",
    "version": 3
   },
   "file_extension": ".py",
   "mimetype": "text/x-python",
   "name": "python",
   "nbconvert_exporter": "python",
   "pygments_lexer": "ipython3",
   "version": "3.6.4"
  }
 },
 "nbformat": 4,
 "nbformat_minor": 2
}
