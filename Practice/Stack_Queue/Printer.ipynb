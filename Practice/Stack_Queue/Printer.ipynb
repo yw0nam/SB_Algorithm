{
 "cells": [
  {
   "cell_type": "code",
   "execution_count": 109,
   "metadata": {},
   "outputs": [],
   "source": [
    "def solution(priorities, location):\n",
    "    answer = 0\n",
    "    max_val = max(priorities)\n",
    "    while 1:\n",
    "        pop_val = priorities.pop(0)\n",
    "        if max_val == pop_val:\n",
    "            answer += 1\n",
    "            if location == 0:\n",
    "                break\n",
    "            else:\n",
    "                location -= 1\n",
    "            max_val = max(priorities)\n",
    "        else:\n",
    "            priorities.append(pop_val)\n",
    "            if location == 0:\n",
    "                location = len(priorities)-1\n",
    "            else:\n",
    "                location -= 1\n",
    "    return answer"
   ]
  },
  {
   "cell_type": "code",
   "execution_count": null,
   "metadata": {},
   "outputs": [],
   "source": []
  }
 ],
 "metadata": {
  "kernelspec": {
   "display_name": "Python 3",
   "language": "python",
   "name": "python3"
  },
  "language_info": {
   "codemirror_mode": {
    "name": "ipython",
    "version": 3
   },
   "file_extension": ".py",
   "mimetype": "text/x-python",
   "name": "python",
   "nbconvert_exporter": "python",
   "pygments_lexer": "ipython3",
   "version": "3.6.4"
  }
 },
 "nbformat": 4,
 "nbformat_minor": 2
}
